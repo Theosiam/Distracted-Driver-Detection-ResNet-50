{
 "cells": [
  {
   "cell_type": "code",
   "execution_count": 3,
   "metadata": {},
   "outputs": [
    {
     "name": "stderr",
     "output_type": "stream",
     "text": [
      "/tmp/ipykernel_4942/3790892806.py:11: FutureWarning: You are using `torch.load` with `weights_only=False` (the current default value), which uses the default pickle module implicitly. It is possible to construct malicious pickle data which will execute arbitrary code during unpickling (See https://github.com/pytorch/pytorch/blob/main/SECURITY.md#untrusted-models for more details). In a future release, the default value for `weights_only` will be flipped to `True`. This limits the functions that could be executed during unpickling. Arbitrary objects will no longer be allowed to be loaded via this mode unless they are explicitly allowlisted by the user via `torch.serialization.add_safe_globals`. We recommend you start setting `weights_only=True` for any use case where you don't have full control of the loaded file. Please open an issue on GitHub for any issues related to this experimental feature.\n",
      "  model.load_state_dict(torch.load(\"/home/theosiam/Repos/Autotrust/Autotrust/Driver_Distraction_Detection/Weight_versions/w6\"))\n"
     ]
    },
    {
     "name": "stdout",
     "output_type": "stream",
     "text": [
      "Model exported to onnx_version5.onnx\n"
     ]
    }
   ],
   "source": [
    "import torch\n",
    "import torch.nn as nn\n",
    "from torchvision import models\n",
    "import torch.utils.data\n",
    "\n",
    "\n",
    "# Define and load the ResNet-50 model\n",
    "model = models.resnet50()\n",
    "num_ftrs = model.fc.in_features\n",
    "model.fc = nn.Linear(num_ftrs, 5)  # Adjust for 10 classes\n",
    "model.load_state_dict(torch.load(\"/home/theosiam/Repos/Autotrust/Autotrust/Driver_Distraction_Detection/Weight_versions/w6\"))\n",
    "model.eval()\n",
    "model.cuda()\n",
    "\n",
    "# Create a dummy input that mimics your transformed data\n",
    "\n",
    "dummy_input = torch.randn(1, 3, 224, 224).cuda()\n",
    "\n",
    "# Export to ONNX\n",
    "torch.onnx.export(\n",
    "    model,\n",
    "    dummy_input,\n",
    "    \"/home/theosiam/Repos/Autotrust/Autotrust/Driver_Distraction_Detection/Onnx_versions/onnx_version5.onnx\",  # Output ONNX file name\n",
    "    export_params=True,      # Include the trained weights\n",
    "    opset_version=12,        # Set ONNX opset version\n",
    "    do_constant_folding=True,  # Optimize constant folding\n",
    "    input_names=[\"input\"],   # Name the input node\n",
    "    output_names=[\"output\"],  # Name the output node\n",
    "    dynamic_axes={\"input\": {0: \"batch_size\"}, \"output\": {0: \"batch_size\"}},  # Support dynamic batch size\n",
    ")\n",
    "\n",
    "print(\"Model exported to onnx_version5.onnx\")"
   ]
  }
 ],
 "metadata": {
  "kernelspec": {
   "display_name": "test1",
   "language": "python",
   "name": "python3"
  },
  "language_info": {
   "codemirror_mode": {
    "name": "ipython",
    "version": 3
   },
   "file_extension": ".py",
   "mimetype": "text/x-python",
   "name": "python",
   "nbconvert_exporter": "python",
   "pygments_lexer": "ipython3",
   "version": "3.8.20"
  }
 },
 "nbformat": 4,
 "nbformat_minor": 2
}
